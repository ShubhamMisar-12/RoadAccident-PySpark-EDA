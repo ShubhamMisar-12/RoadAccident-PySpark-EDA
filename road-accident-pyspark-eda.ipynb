{
 "cells": [
  {
   "cell_type": "code",
   "execution_count": 1,
   "id": "51f849b3",
   "metadata": {
    "_cell_guid": "b1076dfc-b9ad-4769-8c92-a6c4dae69d19",
    "_uuid": "8f2839f25d086af736a60e9eeb907d3b93b6e0e5",
    "execution": {
     "iopub.execute_input": "2023-11-27T04:37:49.034588Z",
     "iopub.status.busy": "2023-11-27T04:37:49.034193Z",
     "iopub.status.idle": "2023-11-27T04:37:49.340322Z",
     "shell.execute_reply": "2023-11-27T04:37:49.339112Z"
    },
    "papermill": {
     "duration": 0.317504,
     "end_time": "2023-11-27T04:37:49.342235",
     "exception": false,
     "start_time": "2023-11-27T04:37:49.024731",
     "status": "completed"
    },
    "tags": []
   },
   "outputs": [
    {
     "name": "stdout",
     "output_type": "stream",
     "text": [
      "/kaggle/input/road-accident-united-kingdom-uk-dataset/UK_Accident.csv\n"
     ]
    }
   ],
   "source": [
    "# This Python 3 environment comes with many helpful analytics libraries installed\n",
    "# It is defined by the kaggle/python Docker image: https://github.com/kaggle/docker-python\n",
    "# For example, here's several helpful packages to load\n",
    "\n",
    "import numpy as np # linear algebra\n",
    "import pandas as pd # data processing, CSV file I/O (e.g. pd.read_csv)\n",
    "\n",
    "# Input data files are available in the read-only \"../input/\" directory\n",
    "# For example, running this (by clicking run or pressing Shift+Enter) will list all files under the input directory\n",
    "\n",
    "import os\n",
    "for dirname, _, filenames in os.walk('/kaggle/input'):\n",
    "    for filename in filenames:\n",
    "        print(os.path.join(dirname, filename))\n",
    "\n",
    "# You can write up to 20GB to the current directory (/kaggle/working/) that gets preserved as output when you create a version using \"Save & Run All\" \n",
    "# You can also write temporary files to /kaggle/temp/, but they won't be saved outside of the current session"
   ]
  },
  {
   "cell_type": "code",
   "execution_count": 2,
   "id": "fa870d12",
   "metadata": {
    "execution": {
     "iopub.execute_input": "2023-11-27T04:37:49.353904Z",
     "iopub.status.busy": "2023-11-27T04:37:49.353464Z",
     "iopub.status.idle": "2023-11-27T04:38:27.968231Z",
     "shell.execute_reply": "2023-11-27T04:38:27.967174Z"
    },
    "papermill": {
     "duration": 38.623099,
     "end_time": "2023-11-27T04:38:27.970453",
     "exception": false,
     "start_time": "2023-11-27T04:37:49.347354",
     "status": "completed"
    },
    "tags": []
   },
   "outputs": [
    {
     "name": "stdout",
     "output_type": "stream",
     "text": [
      "Collecting pyspark\r\n",
      "  Downloading pyspark-3.5.0.tar.gz (316.9 MB)\r\n",
      "\u001b[2K     \u001b[90m━━━━━━━━━━━━━━━━━━━━━━━━━━━━━━━━━━━━━━━\u001b[0m \u001b[32m316.9/316.9 MB\u001b[0m \u001b[31m4.7 MB/s\u001b[0m eta \u001b[36m0:00:00\u001b[0m\r\n",
      "\u001b[?25h  Preparing metadata (setup.py) ... \u001b[?25l-\b \b\\\b \bdone\r\n",
      "\u001b[?25hRequirement already satisfied: py4j==0.10.9.7 in /opt/conda/lib/python3.10/site-packages (from pyspark) (0.10.9.7)\r\n",
      "Building wheels for collected packages: pyspark\r\n",
      "  Building wheel for pyspark (setup.py) ... \u001b[?25l-\b \b\\\b \b|\b \bdone\r\n",
      "\u001b[?25h  Created wheel for pyspark: filename=pyspark-3.5.0-py2.py3-none-any.whl size=317425344 sha256=c6809c45e80b95d4d052afcb430403b5bdfa31a497cf8e1e05066ff5a09fe3b8\r\n",
      "  Stored in directory: /root/.cache/pip/wheels/41/4e/10/c2cf2467f71c678cfc8a6b9ac9241e5e44a01940da8fbb17fc\r\n",
      "Successfully built pyspark\r\n",
      "Installing collected packages: pyspark\r\n",
      "Successfully installed pyspark-3.5.0\r\n"
     ]
    }
   ],
   "source": [
    "!pip install pyspark"
   ]
  },
  {
   "cell_type": "code",
   "execution_count": 3,
   "id": "b42cbb90",
   "metadata": {
    "execution": {
     "iopub.execute_input": "2023-11-27T04:38:27.992726Z",
     "iopub.status.busy": "2023-11-27T04:38:27.992380Z",
     "iopub.status.idle": "2023-11-27T04:38:28.067192Z",
     "shell.execute_reply": "2023-11-27T04:38:28.066296Z"
    },
    "papermill": {
     "duration": 0.088975,
     "end_time": "2023-11-27T04:38:28.069666",
     "exception": false,
     "start_time": "2023-11-27T04:38:27.980691",
     "status": "completed"
    },
    "tags": []
   },
   "outputs": [],
   "source": [
    "import pyspark"
   ]
  },
  {
   "cell_type": "code",
   "execution_count": null,
   "id": "271f3272",
   "metadata": {
    "papermill": {
     "duration": 0.009782,
     "end_time": "2023-11-27T04:38:28.089575",
     "exception": false,
     "start_time": "2023-11-27T04:38:28.079793",
     "status": "completed"
    },
    "tags": []
   },
   "outputs": [],
   "source": []
  },
  {
   "cell_type": "code",
   "execution_count": 4,
   "id": "93c18e36",
   "metadata": {
    "execution": {
     "iopub.execute_input": "2023-11-27T04:38:28.110733Z",
     "iopub.status.busy": "2023-11-27T04:38:28.110376Z",
     "iopub.status.idle": "2023-11-27T04:38:28.115365Z",
     "shell.execute_reply": "2023-11-27T04:38:28.114512Z"
    },
    "papermill": {
     "duration": 0.017507,
     "end_time": "2023-11-27T04:38:28.116971",
     "exception": false,
     "start_time": "2023-11-27T04:38:28.099464",
     "status": "completed"
    },
    "tags": []
   },
   "outputs": [],
   "source": [
    "custom_column_names = ['Accident_Index', 'Location_Easting_OSGR', 'Location_Northing_OSGR', 'Longitude', 'Latitude', 'Police_Force', 'Accident_Severity', 'Number_of_Vehicles', 'Number_of_Casualties', 'Date', 'Day_of_Week', 'Time', 'Local_Authority_(District)', 'Local_Authority_(Highway)', '1st_Road_Class', '1st_Road_Number', 'Road_Type', 'Speed_limit', 'Junction_Control', '2nd_Road_Class', '2nd_Road_Number', 'Pedestrian_Crossing-Human_Control', 'Pedestrian_Crossing-Physical_Facilities', 'Light_Conditions', 'Weather_Conditions', 'Road_Surface_Conditions', 'Special_Conditions_at_Site', 'Carriageway_Hazards', 'Urban_or_Rural_Area', 'Did_Police_Officer_Attend_Scene_of_Accident', 'LSOA_of_Accident_Location', 'Year']"
   ]
  },
  {
   "cell_type": "code",
   "execution_count": 5,
   "id": "3408146b",
   "metadata": {
    "execution": {
     "iopub.execute_input": "2023-11-27T04:38:28.137836Z",
     "iopub.status.busy": "2023-11-27T04:38:28.137359Z",
     "iopub.status.idle": "2023-11-27T04:38:28.141175Z",
     "shell.execute_reply": "2023-11-27T04:38:28.140412Z"
    },
    "papermill": {
     "duration": 0.016142,
     "end_time": "2023-11-27T04:38:28.142829",
     "exception": false,
     "start_time": "2023-11-27T04:38:28.126687",
     "status": "completed"
    },
    "tags": []
   },
   "outputs": [],
   "source": [
    "from pyspark.sql import SparkSession"
   ]
  },
  {
   "cell_type": "code",
   "execution_count": 6,
   "id": "a2e538b8",
   "metadata": {
    "execution": {
     "iopub.execute_input": "2023-11-27T04:38:28.164332Z",
     "iopub.status.busy": "2023-11-27T04:38:28.164034Z",
     "iopub.status.idle": "2023-11-27T04:38:32.535867Z",
     "shell.execute_reply": "2023-11-27T04:38:32.535068Z"
    },
    "papermill": {
     "duration": 4.385526,
     "end_time": "2023-11-27T04:38:32.538052",
     "exception": false,
     "start_time": "2023-11-27T04:38:28.152526",
     "status": "completed"
    },
    "tags": []
   },
   "outputs": [
    {
     "name": "stderr",
     "output_type": "stream",
     "text": [
      "Setting default log level to \"WARN\".\n",
      "To adjust logging level use sc.setLogLevel(newLevel). For SparkR, use setLogLevel(newLevel).\n",
      "23/11/27 04:38:30 WARN NativeCodeLoader: Unable to load native-hadoop library for your platform... using builtin-java classes where applicable\n"
     ]
    }
   ],
   "source": [
    "spark = SparkSession.builder.appName('EDA').getOrCreate()"
   ]
  },
  {
   "cell_type": "code",
   "execution_count": 7,
   "id": "9b0f2837",
   "metadata": {
    "execution": {
     "iopub.execute_input": "2023-11-27T04:38:32.559185Z",
     "iopub.status.busy": "2023-11-27T04:38:32.558913Z",
     "iopub.status.idle": "2023-11-27T04:38:32.598192Z",
     "shell.execute_reply": "2023-11-27T04:38:32.597175Z"
    },
    "papermill": {
     "duration": 0.051842,
     "end_time": "2023-11-27T04:38:32.600058",
     "exception": false,
     "start_time": "2023-11-27T04:38:32.548216",
     "status": "completed"
    },
    "tags": []
   },
   "outputs": [
    {
     "data": {
      "text/plain": [
       "[('spark.app.startTime', '1701059910874'),\n",
       " ('spark.executor.id', 'driver'),\n",
       " ('spark.app.submitTime', '1701059910648'),\n",
       " ('spark.app.id', 'local-1701059912002'),\n",
       " ('spark.driver.extraJavaOptions',\n",
       "  '-Djava.net.preferIPv6Addresses=false -XX:+IgnoreUnrecognizedVMOptions --add-opens=java.base/java.lang=ALL-UNNAMED --add-opens=java.base/java.lang.invoke=ALL-UNNAMED --add-opens=java.base/java.lang.reflect=ALL-UNNAMED --add-opens=java.base/java.io=ALL-UNNAMED --add-opens=java.base/java.net=ALL-UNNAMED --add-opens=java.base/java.nio=ALL-UNNAMED --add-opens=java.base/java.util=ALL-UNNAMED --add-opens=java.base/java.util.concurrent=ALL-UNNAMED --add-opens=java.base/java.util.concurrent.atomic=ALL-UNNAMED --add-opens=java.base/sun.nio.ch=ALL-UNNAMED --add-opens=java.base/sun.nio.cs=ALL-UNNAMED --add-opens=java.base/sun.security.action=ALL-UNNAMED --add-opens=java.base/sun.util.calendar=ALL-UNNAMED --add-opens=java.security.jgss/sun.security.krb5=ALL-UNNAMED -Djdk.reflect.useDirectMethodHandle=false'),\n",
       " ('spark.driver.port', '40417'),\n",
       " ('spark.rdd.compress', 'True'),\n",
       " ('spark.serializer.objectStreamReset', '100'),\n",
       " ('spark.master', 'local[*]'),\n",
       " ('spark.submit.pyFiles', ''),\n",
       " ('spark.app.name', 'EDA'),\n",
       " ('spark.submit.deployMode', 'client'),\n",
       " ('spark.driver.host', '7d9c24b033c7'),\n",
       " ('spark.ui.showConsoleProgress', 'true'),\n",
       " ('spark.executor.extraJavaOptions',\n",
       "  '-Djava.net.preferIPv6Addresses=false -XX:+IgnoreUnrecognizedVMOptions --add-opens=java.base/java.lang=ALL-UNNAMED --add-opens=java.base/java.lang.invoke=ALL-UNNAMED --add-opens=java.base/java.lang.reflect=ALL-UNNAMED --add-opens=java.base/java.io=ALL-UNNAMED --add-opens=java.base/java.net=ALL-UNNAMED --add-opens=java.base/java.nio=ALL-UNNAMED --add-opens=java.base/java.util=ALL-UNNAMED --add-opens=java.base/java.util.concurrent=ALL-UNNAMED --add-opens=java.base/java.util.concurrent.atomic=ALL-UNNAMED --add-opens=java.base/sun.nio.ch=ALL-UNNAMED --add-opens=java.base/sun.nio.cs=ALL-UNNAMED --add-opens=java.base/sun.security.action=ALL-UNNAMED --add-opens=java.base/sun.util.calendar=ALL-UNNAMED --add-opens=java.security.jgss/sun.security.krb5=ALL-UNNAMED -Djdk.reflect.useDirectMethodHandle=false')]"
      ]
     },
     "execution_count": 7,
     "metadata": {},
     "output_type": "execute_result"
    }
   ],
   "source": [
    "spark.sparkContext.getConf().getAll()"
   ]
  },
  {
   "cell_type": "code",
   "execution_count": 8,
   "id": "a3ff6b10",
   "metadata": {
    "execution": {
     "iopub.execute_input": "2023-11-27T04:38:32.621683Z",
     "iopub.status.busy": "2023-11-27T04:38:32.621055Z",
     "iopub.status.idle": "2023-11-27T04:38:37.740054Z",
     "shell.execute_reply": "2023-11-27T04:38:37.739323Z"
    },
    "papermill": {
     "duration": 5.132339,
     "end_time": "2023-11-27T04:38:37.742427",
     "exception": false,
     "start_time": "2023-11-27T04:38:32.610088",
     "status": "completed"
    },
    "tags": []
   },
   "outputs": [],
   "source": [
    "df = spark.read.csv('/kaggle/input/road-accident-united-kingdom-uk-dataset/UK_Accident.csv', header = True)"
   ]
  },
  {
   "cell_type": "code",
   "execution_count": 9,
   "id": "cf15f16f",
   "metadata": {
    "execution": {
     "iopub.execute_input": "2023-11-27T04:38:37.765878Z",
     "iopub.status.busy": "2023-11-27T04:38:37.765139Z",
     "iopub.status.idle": "2023-11-27T04:38:37.807628Z",
     "shell.execute_reply": "2023-11-27T04:38:37.806644Z"
    },
    "papermill": {
     "duration": 0.056572,
     "end_time": "2023-11-27T04:38:37.809739",
     "exception": false,
     "start_time": "2023-11-27T04:38:37.753167",
     "status": "completed"
    },
    "tags": []
   },
   "outputs": [],
   "source": [
    "df = df.withColumnRenamed('_c0', 'RowIndex')"
   ]
  },
  {
   "cell_type": "code",
   "execution_count": 10,
   "id": "6b58a1fb",
   "metadata": {
    "execution": {
     "iopub.execute_input": "2023-11-27T04:38:37.831414Z",
     "iopub.status.busy": "2023-11-27T04:38:37.831108Z",
     "iopub.status.idle": "2023-11-27T04:38:37.839362Z",
     "shell.execute_reply": "2023-11-27T04:38:37.838299Z"
    },
    "papermill": {
     "duration": 0.02091,
     "end_time": "2023-11-27T04:38:37.841143",
     "exception": false,
     "start_time": "2023-11-27T04:38:37.820233",
     "status": "completed"
    },
    "tags": []
   },
   "outputs": [
    {
     "name": "stdout",
     "output_type": "stream",
     "text": [
      "root\n",
      " |-- RowIndex: string (nullable = true)\n",
      " |-- Accident_Index: string (nullable = true)\n",
      " |-- Location_Easting_OSGR: string (nullable = true)\n",
      " |-- Location_Northing_OSGR: string (nullable = true)\n",
      " |-- Longitude: string (nullable = true)\n",
      " |-- Latitude: string (nullable = true)\n",
      " |-- Police_Force: string (nullable = true)\n",
      " |-- Accident_Severity: string (nullable = true)\n",
      " |-- Number_of_Vehicles: string (nullable = true)\n",
      " |-- Number_of_Casualties: string (nullable = true)\n",
      " |-- Date: string (nullable = true)\n",
      " |-- Day_of_Week: string (nullable = true)\n",
      " |-- Time: string (nullable = true)\n",
      " |-- Local_Authority_(District): string (nullable = true)\n",
      " |-- Local_Authority_(Highway): string (nullable = true)\n",
      " |-- 1st_Road_Class: string (nullable = true)\n",
      " |-- 1st_Road_Number: string (nullable = true)\n",
      " |-- Road_Type: string (nullable = true)\n",
      " |-- Speed_limit: string (nullable = true)\n",
      " |-- Junction_Control: string (nullable = true)\n",
      " |-- 2nd_Road_Class: string (nullable = true)\n",
      " |-- 2nd_Road_Number: string (nullable = true)\n",
      " |-- Pedestrian_Crossing-Human_Control: string (nullable = true)\n",
      " |-- Pedestrian_Crossing-Physical_Facilities: string (nullable = true)\n",
      " |-- Light_Conditions: string (nullable = true)\n",
      " |-- Weather_Conditions: string (nullable = true)\n",
      " |-- Road_Surface_Conditions: string (nullable = true)\n",
      " |-- Special_Conditions_at_Site: string (nullable = true)\n",
      " |-- Carriageway_Hazards: string (nullable = true)\n",
      " |-- Urban_or_Rural_Area: string (nullable = true)\n",
      " |-- Did_Police_Officer_Attend_Scene_of_Accident: string (nullable = true)\n",
      " |-- LSOA_of_Accident_Location: string (nullable = true)\n",
      " |-- Year: string (nullable = true)\n",
      "\n"
     ]
    }
   ],
   "source": [
    "df.printSchema()"
   ]
  },
  {
   "cell_type": "code",
   "execution_count": 11,
   "id": "8de18b97",
   "metadata": {
    "execution": {
     "iopub.execute_input": "2023-11-27T04:38:37.862993Z",
     "iopub.status.busy": "2023-11-27T04:38:37.862370Z",
     "iopub.status.idle": "2023-11-27T04:38:38.305140Z",
     "shell.execute_reply": "2023-11-27T04:38:38.304322Z"
    },
    "papermill": {
     "duration": 0.45656,
     "end_time": "2023-11-27T04:38:38.307656",
     "exception": false,
     "start_time": "2023-11-27T04:38:37.851096",
     "status": "completed"
    },
    "tags": []
   },
   "outputs": [
    {
     "name": "stderr",
     "output_type": "stream",
     "text": [
      "23/11/27 04:38:37 WARN SparkStringUtils: Truncated the string representation of a plan since it was too large. This behavior can be adjusted by setting 'spark.sql.debug.maxToStringFields'.\n",
      "23/11/27 04:38:38 WARN CSVHeaderChecker: CSV header does not conform to the schema.\n",
      " Header: , Accident_Index, Location_Easting_OSGR, Location_Northing_OSGR, Longitude, Latitude, Police_Force, Accident_Severity, Number_of_Vehicles, Number_of_Casualties, Date, Day_of_Week, Time, Local_Authority_(District), Local_Authority_(Highway), 1st_Road_Class, 1st_Road_Number, Road_Type, Speed_limit, Junction_Control, 2nd_Road_Class, 2nd_Road_Number, Pedestrian_Crossing-Human_Control, Pedestrian_Crossing-Physical_Facilities, Light_Conditions, Weather_Conditions, Road_Surface_Conditions, Special_Conditions_at_Site, Carriageway_Hazards, Urban_or_Rural_Area, Did_Police_Officer_Attend_Scene_of_Accident, LSOA_of_Accident_Location, Year\n",
      " Schema: _c0, Accident_Index, Location_Easting_OSGR, Location_Northing_OSGR, Longitude, Latitude, Police_Force, Accident_Severity, Number_of_Vehicles, Number_of_Casualties, Date, Day_of_Week, Time, Local_Authority_(District), Local_Authority_(Highway), 1st_Road_Class, 1st_Road_Number, Road_Type, Speed_limit, Junction_Control, 2nd_Road_Class, 2nd_Road_Number, Pedestrian_Crossing-Human_Control, Pedestrian_Crossing-Physical_Facilities, Light_Conditions, Weather_Conditions, Road_Surface_Conditions, Special_Conditions_at_Site, Carriageway_Hazards, Urban_or_Rural_Area, Did_Police_Officer_Attend_Scene_of_Accident, LSOA_of_Accident_Location, Year\n",
      "Expected: _c0 but found: \n",
      "CSV file: file:///kaggle/input/road-accident-united-kingdom-uk-dataset/UK_Accident.csv\n"
     ]
    },
    {
     "data": {
      "text/plain": [
       "[Row(RowIndex='0', Accident_Index='200501BS00001', Location_Easting_OSGR='525680.0', Location_Northing_OSGR='178240.0', Longitude='-0.19117', Latitude='51.489096', Police_Force='1', Accident_Severity='2', Number_of_Vehicles='1', Number_of_Casualties='1', Date='04/01/2005', Day_of_Week='3', Time='17:42', Local_Authority_(District)='12', Local_Authority_(Highway)='E09000020', 1st_Road_Class='3', 1st_Road_Number='3218', Road_Type='Single carriageway', Speed_limit='30', Junction_Control='None', 2nd_Road_Class='-1', 2nd_Road_Number='0', Pedestrian_Crossing-Human_Control='None within 50 metres', Pedestrian_Crossing-Physical_Facilities='Zebra crossing', Light_Conditions='Daylight: Street light present', Weather_Conditions='Raining without high winds', Road_Surface_Conditions='Wet/Damp', Special_Conditions_at_Site='None', Carriageway_Hazards='None', Urban_or_Rural_Area='1', Did_Police_Officer_Attend_Scene_of_Accident='Yes', LSOA_of_Accident_Location='E01002849', Year='2005'),\n",
       " Row(RowIndex='1', Accident_Index='200501BS00002', Location_Easting_OSGR='524170.0', Location_Northing_OSGR='181650.0', Longitude='-0.211708', Latitude='51.520075', Police_Force='1', Accident_Severity='3', Number_of_Vehicles='1', Number_of_Casualties='1', Date='05/01/2005', Day_of_Week='4', Time='17:36', Local_Authority_(District)='12', Local_Authority_(Highway)='E09000020', 1st_Road_Class='4', 1st_Road_Number='450', Road_Type='Dual carriageway', Speed_limit='30', Junction_Control='Automatic traffic signal', 2nd_Road_Class='5', 2nd_Road_Number='0', Pedestrian_Crossing-Human_Control='None within 50 metres', Pedestrian_Crossing-Physical_Facilities='Pedestrian phase at traffic signal junction', Light_Conditions='Darkness: Street lights present and lit', Weather_Conditions='Fine without high winds', Road_Surface_Conditions='Dry', Special_Conditions_at_Site='None', Carriageway_Hazards='None', Urban_or_Rural_Area='1', Did_Police_Officer_Attend_Scene_of_Accident='Yes', LSOA_of_Accident_Location='E01002909', Year='2005'),\n",
       " Row(RowIndex='2', Accident_Index='200501BS00003', Location_Easting_OSGR='524520.0', Location_Northing_OSGR='182240.0', Longitude='-0.206458', Latitude='51.525301', Police_Force='1', Accident_Severity='3', Number_of_Vehicles='2', Number_of_Casualties='1', Date='06/01/2005', Day_of_Week='5', Time='00:15', Local_Authority_(District)='12', Local_Authority_(Highway)='E09000020', 1st_Road_Class='5', 1st_Road_Number='0', Road_Type='Single carriageway', Speed_limit='30', Junction_Control='None', 2nd_Road_Class='-1', 2nd_Road_Number='0', Pedestrian_Crossing-Human_Control='None within 50 metres', Pedestrian_Crossing-Physical_Facilities='No physical crossing within 50 meters', Light_Conditions='Darkness: Street lights present and lit', Weather_Conditions='Fine without high winds', Road_Surface_Conditions='Dry', Special_Conditions_at_Site='None', Carriageway_Hazards='None', Urban_or_Rural_Area='1', Did_Police_Officer_Attend_Scene_of_Accident='Yes', LSOA_of_Accident_Location='E01002857', Year='2005'),\n",
       " Row(RowIndex='3', Accident_Index='200501BS00004', Location_Easting_OSGR='526900.0', Location_Northing_OSGR='177530.0', Longitude='-0.173862', Latitude='51.482442', Police_Force='1', Accident_Severity='3', Number_of_Vehicles='1', Number_of_Casualties='1', Date='07/01/2005', Day_of_Week='6', Time='10:35', Local_Authority_(District)='12', Local_Authority_(Highway)='E09000020', 1st_Road_Class='3', 1st_Road_Number='3220', Road_Type='Single carriageway', Speed_limit='30', Junction_Control='None', 2nd_Road_Class='-1', 2nd_Road_Number='0', Pedestrian_Crossing-Human_Control='None within 50 metres', Pedestrian_Crossing-Physical_Facilities='No physical crossing within 50 meters', Light_Conditions='Daylight: Street light present', Weather_Conditions='Fine without high winds', Road_Surface_Conditions='Dry', Special_Conditions_at_Site='None', Carriageway_Hazards='None', Urban_or_Rural_Area='1', Did_Police_Officer_Attend_Scene_of_Accident='Yes', LSOA_of_Accident_Location='E01002840', Year='2005')]"
      ]
     },
     "execution_count": 11,
     "metadata": {},
     "output_type": "execute_result"
    }
   ],
   "source": [
    "df.take(4)"
   ]
  },
  {
   "cell_type": "code",
   "execution_count": 12,
   "id": "98e36fe2",
   "metadata": {
    "execution": {
     "iopub.execute_input": "2023-11-27T04:38:38.340101Z",
     "iopub.status.busy": "2023-11-27T04:38:38.339696Z",
     "iopub.status.idle": "2023-11-27T04:38:38.547745Z",
     "shell.execute_reply": "2023-11-27T04:38:38.546921Z"
    },
    "papermill": {
     "duration": 0.226727,
     "end_time": "2023-11-27T04:38:38.550045",
     "exception": false,
     "start_time": "2023-11-27T04:38:38.323318",
     "status": "completed"
    },
    "tags": []
   },
   "outputs": [
    {
     "name": "stdout",
     "output_type": "stream",
     "text": [
      "+-----------+\n",
      "|Day_of_Week|\n",
      "+-----------+\n",
      "|          3|\n",
      "|          4|\n",
      "|          5|\n",
      "|          6|\n",
      "|          2|\n",
      "|          3|\n",
      "|          5|\n",
      "|          6|\n",
      "|          7|\n",
      "|          7|\n",
      "|          1|\n",
      "|          3|\n",
      "|          3|\n",
      "|          3|\n",
      "|          3|\n",
      "|          3|\n",
      "|          5|\n",
      "|          6|\n",
      "|          6|\n",
      "|          7|\n",
      "+-----------+\n",
      "only showing top 20 rows\n",
      "\n"
     ]
    }
   ],
   "source": [
    "df.select('Day_of_Week').show()"
   ]
  },
  {
   "cell_type": "code",
   "execution_count": 13,
   "id": "c3639a1f",
   "metadata": {
    "execution": {
     "iopub.execute_input": "2023-11-27T04:38:38.581571Z",
     "iopub.status.busy": "2023-11-27T04:38:38.581178Z",
     "iopub.status.idle": "2023-11-27T04:38:42.026206Z",
     "shell.execute_reply": "2023-11-27T04:38:42.025328Z"
    },
    "papermill": {
     "duration": 3.463072,
     "end_time": "2023-11-27T04:38:42.028475",
     "exception": false,
     "start_time": "2023-11-27T04:38:38.565403",
     "status": "completed"
    },
    "tags": []
   },
   "outputs": [
    {
     "name": "stderr",
     "output_type": "stream",
     "text": [
      "                                                                                \r"
     ]
    },
    {
     "data": {
      "text/plain": [
       "[Row(Weather_Conditions='Raining without high winds'),\n",
       " Row(Weather_Conditions='Snowing with high winds'),\n",
       " Row(Weather_Conditions='Snowing without high winds'),\n",
       " Row(Weather_Conditions='Unknown'),\n",
       " Row(Weather_Conditions='Other'),\n",
       " Row(Weather_Conditions='Fine with high winds'),\n",
       " Row(Weather_Conditions='Fine without high winds'),\n",
       " Row(Weather_Conditions='Raining with high winds'),\n",
       " Row(Weather_Conditions='Fog or mist')]"
      ]
     },
     "execution_count": 13,
     "metadata": {},
     "output_type": "execute_result"
    }
   ],
   "source": [
    "df.select('Weather_Conditions').distinct().collect()"
   ]
  },
  {
   "cell_type": "code",
   "execution_count": 14,
   "id": "994e5715",
   "metadata": {
    "execution": {
     "iopub.execute_input": "2023-11-27T04:38:42.060563Z",
     "iopub.status.busy": "2023-11-27T04:38:42.060158Z",
     "iopub.status.idle": "2023-11-27T04:39:24.478851Z",
     "shell.execute_reply": "2023-11-27T04:39:24.478103Z"
    },
    "papermill": {
     "duration": 42.436992,
     "end_time": "2023-11-27T04:39:24.480772",
     "exception": false,
     "start_time": "2023-11-27T04:38:42.043780",
     "status": "completed"
    },
    "tags": []
   },
   "outputs": [
    {
     "name": "stderr",
     "output_type": "stream",
     "text": [
      "23/11/27 04:38:42 WARN CSVHeaderChecker: CSV header does not conform to the schema.\n",
      " Header: , Accident_Index, Location_Easting_OSGR, Location_Northing_OSGR, Longitude, Latitude, Police_Force, Accident_Severity, Number_of_Vehicles, Number_of_Casualties, Date, Day_of_Week, Time, Local_Authority_(District), Local_Authority_(Highway), 1st_Road_Class, 1st_Road_Number, Road_Type, Speed_limit, Junction_Control, 2nd_Road_Class, 2nd_Road_Number, Pedestrian_Crossing-Human_Control, Pedestrian_Crossing-Physical_Facilities, Light_Conditions, Weather_Conditions, Road_Surface_Conditions, Special_Conditions_at_Site, Carriageway_Hazards, Urban_or_Rural_Area, Did_Police_Officer_Attend_Scene_of_Accident, LSOA_of_Accident_Location, Year\n",
      " Schema: _c0, Accident_Index, Location_Easting_OSGR, Location_Northing_OSGR, Longitude, Latitude, Police_Force, Accident_Severity, Number_of_Vehicles, Number_of_Casualties, Date, Day_of_Week, Time, Local_Authority_(District), Local_Authority_(Highway), 1st_Road_Class, 1st_Road_Number, Road_Type, Speed_limit, Junction_Control, 2nd_Road_Class, 2nd_Road_Number, Pedestrian_Crossing-Human_Control, Pedestrian_Crossing-Physical_Facilities, Light_Conditions, Weather_Conditions, Road_Surface_Conditions, Special_Conditions_at_Site, Carriageway_Hazards, Urban_or_Rural_Area, Did_Police_Officer_Attend_Scene_of_Accident, LSOA_of_Accident_Location, Year\n",
      "Expected: _c0 but found: \n",
      "CSV file: file:///kaggle/input/road-accident-united-kingdom-uk-dataset/UK_Accident.csv\n",
      "                                                                                \r"
     ]
    },
    {
     "data": {
      "text/html": [
       "<div>\n",
       "<style scoped>\n",
       "    .dataframe tbody tr th:only-of-type {\n",
       "        vertical-align: middle;\n",
       "    }\n",
       "\n",
       "    .dataframe tbody tr th {\n",
       "        vertical-align: top;\n",
       "    }\n",
       "\n",
       "    .dataframe thead th {\n",
       "        text-align: right;\n",
       "    }\n",
       "</style>\n",
       "<table border=\"1\" class=\"dataframe\">\n",
       "  <thead>\n",
       "    <tr style=\"text-align: right;\">\n",
       "      <th></th>\n",
       "      <th>summary</th>\n",
       "      <th>RowIndex</th>\n",
       "      <th>Accident_Index</th>\n",
       "      <th>Location_Easting_OSGR</th>\n",
       "      <th>Location_Northing_OSGR</th>\n",
       "      <th>Longitude</th>\n",
       "      <th>Latitude</th>\n",
       "      <th>Police_Force</th>\n",
       "      <th>Accident_Severity</th>\n",
       "      <th>Number_of_Vehicles</th>\n",
       "      <th>...</th>\n",
       "      <th>Pedestrian_Crossing-Physical_Facilities</th>\n",
       "      <th>Light_Conditions</th>\n",
       "      <th>Weather_Conditions</th>\n",
       "      <th>Road_Surface_Conditions</th>\n",
       "      <th>Special_Conditions_at_Site</th>\n",
       "      <th>Carriageway_Hazards</th>\n",
       "      <th>Urban_or_Rural_Area</th>\n",
       "      <th>Did_Police_Officer_Attend_Scene_of_Accident</th>\n",
       "      <th>LSOA_of_Accident_Location</th>\n",
       "      <th>Year</th>\n",
       "    </tr>\n",
       "  </thead>\n",
       "  <tbody>\n",
       "    <tr>\n",
       "      <th>0</th>\n",
       "      <td>count</td>\n",
       "      <td>1504150</td>\n",
       "      <td>1504150</td>\n",
       "      <td>1504049</td>\n",
       "      <td>1504150</td>\n",
       "      <td>1504049</td>\n",
       "      <td>1504150</td>\n",
       "      <td>1504150</td>\n",
       "      <td>1504150</td>\n",
       "      <td>1504150</td>\n",
       "      <td>...</td>\n",
       "      <td>1504116</td>\n",
       "      <td>1504150</td>\n",
       "      <td>1504150</td>\n",
       "      <td>1504150</td>\n",
       "      <td>1504150</td>\n",
       "      <td>1504150</td>\n",
       "      <td>1504150</td>\n",
       "      <td>1504150</td>\n",
       "      <td>1395912</td>\n",
       "      <td>1504150</td>\n",
       "    </tr>\n",
       "    <tr>\n",
       "      <th>1</th>\n",
       "      <td>mean</td>\n",
       "      <td>253043.28994581656</td>\n",
       "      <td>Infinity</td>\n",
       "      <td>439621.40507789305</td>\n",
       "      <td>300138.24909084867</td>\n",
       "      <td>-1.4366249705129273</td>\n",
       "      <td>52.58586821011095</td>\n",
       "      <td>30.205364491573313</td>\n",
       "      <td>2.8381903400591697</td>\n",
       "      <td>1.8316058903699763</td>\n",
       "      <td>...</td>\n",
       "      <td>None</td>\n",
       "      <td>None</td>\n",
       "      <td>None</td>\n",
       "      <td>None</td>\n",
       "      <td>None</td>\n",
       "      <td>None</td>\n",
       "      <td>1.3538709570189142</td>\n",
       "      <td>None</td>\n",
       "      <td>None</td>\n",
       "      <td>2009.3697131270153</td>\n",
       "    </tr>\n",
       "    <tr>\n",
       "      <th>2</th>\n",
       "      <td>stddev</td>\n",
       "      <td>148916.19367523177</td>\n",
       "      <td>NaN</td>\n",
       "      <td>95116.1603259732</td>\n",
       "      <td>161021.76206474795</td>\n",
       "      <td>1.3980779515148054</td>\n",
       "      <td>1.512524229712176</td>\n",
       "      <td>25.516033275469383</td>\n",
       "      <td>0.4018422784570454</td>\n",
       "      <td>0.7147586144345145</td>\n",
       "      <td>...</td>\n",
       "      <td>None</td>\n",
       "      <td>None</td>\n",
       "      <td>None</td>\n",
       "      <td>None</td>\n",
       "      <td>None</td>\n",
       "      <td>None</td>\n",
       "      <td>0.4783533937735354</td>\n",
       "      <td>None</td>\n",
       "      <td>None</td>\n",
       "      <td>3.0134971155549817</td>\n",
       "    </tr>\n",
       "    <tr>\n",
       "      <th>3</th>\n",
       "      <td>min</td>\n",
       "      <td>0</td>\n",
       "      <td>2.00903E+12</td>\n",
       "      <td>101200.0</td>\n",
       "      <td>0.0</td>\n",
       "      <td>-0.000101</td>\n",
       "      <td>0.0</td>\n",
       "      <td>1</td>\n",
       "      <td>1</td>\n",
       "      <td>1</td>\n",
       "      <td>...</td>\n",
       "      <td>Central refuge</td>\n",
       "      <td>Darkeness: No street lighting</td>\n",
       "      <td>Fine with high winds</td>\n",
       "      <td>Dry</td>\n",
       "      <td>Auto traffic signal partly defective</td>\n",
       "      <td>Any animal (except a ridden horse)</td>\n",
       "      <td>1</td>\n",
       "      <td>No</td>\n",
       "      <td>E01000001</td>\n",
       "      <td>2005</td>\n",
       "    </tr>\n",
       "    <tr>\n",
       "      <th>4</th>\n",
       "      <td>max</td>\n",
       "      <td>99999</td>\n",
       "      <td>201497UD20801</td>\n",
       "      <td>99520.0</td>\n",
       "      <td>99999.0</td>\n",
       "      <td>9e-05</td>\n",
       "      <td>60.757544</td>\n",
       "      <td>98</td>\n",
       "      <td>3</td>\n",
       "      <td>9</td>\n",
       "      <td>...</td>\n",
       "      <td>non-junction pedestrian crossing</td>\n",
       "      <td>Daylight: Street light present</td>\n",
       "      <td>Unknown</td>\n",
       "      <td>Wet/Damp</td>\n",
       "      <td>Roadworks</td>\n",
       "      <td>Pedestrian in carriageway (not injured)</td>\n",
       "      <td>3</td>\n",
       "      <td>Yes</td>\n",
       "      <td>W01001957</td>\n",
       "      <td>2014</td>\n",
       "    </tr>\n",
       "  </tbody>\n",
       "</table>\n",
       "<p>5 rows × 34 columns</p>\n",
       "</div>"
      ],
      "text/plain": [
       "  summary            RowIndex Accident_Index Location_Easting_OSGR  \\\n",
       "0   count             1504150        1504150               1504049   \n",
       "1    mean  253043.28994581656       Infinity    439621.40507789305   \n",
       "2  stddev  148916.19367523177            NaN      95116.1603259732   \n",
       "3     min                   0    2.00903E+12              101200.0   \n",
       "4     max               99999  201497UD20801               99520.0   \n",
       "\n",
       "  Location_Northing_OSGR            Longitude           Latitude  \\\n",
       "0                1504150              1504049            1504150   \n",
       "1     300138.24909084867  -1.4366249705129273  52.58586821011095   \n",
       "2     161021.76206474795   1.3980779515148054  1.512524229712176   \n",
       "3                    0.0            -0.000101                0.0   \n",
       "4                99999.0                9e-05          60.757544   \n",
       "\n",
       "         Police_Force   Accident_Severity  Number_of_Vehicles  ...  \\\n",
       "0             1504150             1504150             1504150  ...   \n",
       "1  30.205364491573313  2.8381903400591697  1.8316058903699763  ...   \n",
       "2  25.516033275469383  0.4018422784570454  0.7147586144345145  ...   \n",
       "3                   1                   1                   1  ...   \n",
       "4                  98                   3                   9  ...   \n",
       "\n",
       "  Pedestrian_Crossing-Physical_Facilities                Light_Conditions  \\\n",
       "0                                 1504116                         1504150   \n",
       "1                                    None                            None   \n",
       "2                                    None                            None   \n",
       "3                          Central refuge   Darkeness: No street lighting   \n",
       "4        non-junction pedestrian crossing  Daylight: Street light present   \n",
       "\n",
       "     Weather_Conditions Road_Surface_Conditions  \\\n",
       "0               1504150                 1504150   \n",
       "1                  None                    None   \n",
       "2                  None                    None   \n",
       "3  Fine with high winds                     Dry   \n",
       "4               Unknown                Wet/Damp   \n",
       "\n",
       "             Special_Conditions_at_Site  \\\n",
       "0                               1504150   \n",
       "1                                  None   \n",
       "2                                  None   \n",
       "3  Auto traffic signal partly defective   \n",
       "4                             Roadworks   \n",
       "\n",
       "                       Carriageway_Hazards Urban_or_Rural_Area  \\\n",
       "0                                  1504150             1504150   \n",
       "1                                     None  1.3538709570189142   \n",
       "2                                     None  0.4783533937735354   \n",
       "3       Any animal (except a ridden horse)                   1   \n",
       "4  Pedestrian in carriageway (not injured)                   3   \n",
       "\n",
       "  Did_Police_Officer_Attend_Scene_of_Accident LSOA_of_Accident_Location  \\\n",
       "0                                     1504150                   1395912   \n",
       "1                                        None                      None   \n",
       "2                                        None                      None   \n",
       "3                                          No                 E01000001   \n",
       "4                                         Yes                 W01001957   \n",
       "\n",
       "                 Year  \n",
       "0             1504150  \n",
       "1  2009.3697131270153  \n",
       "2  3.0134971155549817  \n",
       "3                2005  \n",
       "4                2014  \n",
       "\n",
       "[5 rows x 34 columns]"
      ]
     },
     "execution_count": 14,
     "metadata": {},
     "output_type": "execute_result"
    }
   ],
   "source": [
    "result = df.describe().toPandas()\n",
    "result"
   ]
  },
  {
   "cell_type": "code",
   "execution_count": 15,
   "id": "4bc72262",
   "metadata": {
    "execution": {
     "iopub.execute_input": "2023-11-27T04:39:24.516564Z",
     "iopub.status.busy": "2023-11-27T04:39:24.515908Z",
     "iopub.status.idle": "2023-11-27T04:39:26.766785Z",
     "shell.execute_reply": "2023-11-27T04:39:26.765359Z"
    },
    "papermill": {
     "duration": 2.272758,
     "end_time": "2023-11-27T04:39:26.769464",
     "exception": false,
     "start_time": "2023-11-27T04:39:24.496706",
     "status": "completed"
    },
    "tags": []
   },
   "outputs": [
    {
     "name": "stderr",
     "output_type": "stream",
     "text": [
      "[Stage 9:>                                                          (0 + 4) / 4]\r"
     ]
    },
    {
     "name": "stdout",
     "output_type": "stream",
     "text": [
      "+------------------+-------+\n",
      "|         Road_Type|  count|\n",
      "+------------------+-------+\n",
      "|         Slip road|  15668|\n",
      "|    One way street|  30981|\n",
      "|           Unknown|   8346|\n",
      "|        Roundabout| 100463|\n",
      "|Single carriageway|1126951|\n",
      "|  Dual carriageway| 221741|\n",
      "+------------------+-------+\n",
      "\n"
     ]
    },
    {
     "name": "stderr",
     "output_type": "stream",
     "text": [
      "                                                                                \r"
     ]
    }
   ],
   "source": [
    "df.groupby('Road_Type').count().show()"
   ]
  },
  {
   "cell_type": "code",
   "execution_count": 16,
   "id": "8ccfefab",
   "metadata": {
    "execution": {
     "iopub.execute_input": "2023-11-27T04:39:26.805193Z",
     "iopub.status.busy": "2023-11-27T04:39:26.804857Z",
     "iopub.status.idle": "2023-11-27T04:39:26.808925Z",
     "shell.execute_reply": "2023-11-27T04:39:26.808285Z"
    },
    "papermill": {
     "duration": 0.024381,
     "end_time": "2023-11-27T04:39:26.811183",
     "exception": false,
     "start_time": "2023-11-27T04:39:26.786802",
     "status": "completed"
    },
    "tags": []
   },
   "outputs": [],
   "source": [
    "from pyspark.sql.functions import mean"
   ]
  },
  {
   "cell_type": "code",
   "execution_count": 17,
   "id": "9a7c6cf5",
   "metadata": {
    "execution": {
     "iopub.execute_input": "2023-11-27T04:39:26.845977Z",
     "iopub.status.busy": "2023-11-27T04:39:26.844864Z",
     "iopub.status.idle": "2023-11-27T04:39:28.607989Z",
     "shell.execute_reply": "2023-11-27T04:39:28.607168Z"
    },
    "papermill": {
     "duration": 1.782604,
     "end_time": "2023-11-27T04:39:28.610504",
     "exception": false,
     "start_time": "2023-11-27T04:39:26.827900",
     "status": "completed"
    },
    "tags": []
   },
   "outputs": [
    {
     "name": "stderr",
     "output_type": "stream",
     "text": [
      "[Stage 12:>                                                         (0 + 4) / 4]\r"
     ]
    },
    {
     "name": "stdout",
     "output_type": "stream",
     "text": [
      "+-----------------------+-------+\n",
      "|Road_Surface_Conditions|  count|\n",
      "+-----------------------+-------+\n",
      "|   Flood (Over 3cm o...|   2143|\n",
      "|              Frost/Ice|  31405|\n",
      "|               Wet/Damp| 423477|\n",
      "|                    Dry|1034670|\n",
      "|                   Snow|  10497|\n",
      "|                 Normal|   1958|\n",
      "+-----------------------+-------+\n",
      "\n"
     ]
    },
    {
     "name": "stderr",
     "output_type": "stream",
     "text": [
      "                                                                                \r"
     ]
    }
   ],
   "source": [
    "df.groupby('Road_Surface_Conditions').count().show()"
   ]
  },
  {
   "cell_type": "code",
   "execution_count": 18,
   "id": "99512bb5",
   "metadata": {
    "execution": {
     "iopub.execute_input": "2023-11-27T04:39:28.710028Z",
     "iopub.status.busy": "2023-11-27T04:39:28.709686Z",
     "iopub.status.idle": "2023-11-27T04:39:30.616150Z",
     "shell.execute_reply": "2023-11-27T04:39:30.615258Z"
    },
    "papermill": {
     "duration": 1.990705,
     "end_time": "2023-11-27T04:39:30.619098",
     "exception": false,
     "start_time": "2023-11-27T04:39:28.628393",
     "status": "completed"
    },
    "tags": []
   },
   "outputs": [
    {
     "name": "stderr",
     "output_type": "stream",
     "text": [
      "[Stage 15:>                                                         (0 + 4) / 4]\r"
     ]
    },
    {
     "name": "stdout",
     "output_type": "stream",
     "text": [
      "+------------------+------+\n",
      "|Number_of_Vehicles| count|\n",
      "+------------------+------+\n",
      "|                 7|   379|\n",
      "|                11|    11|\n",
      "|                 3| 81378|\n",
      "|                 8|   164|\n",
      "|                16|     1|\n",
      "|                 5|  3758|\n",
      "|                 6|  1164|\n",
      "|                 9|    70|\n",
      "|                 1|298368|\n",
      "|                20|     1|\n",
      "|                10|    38|\n",
      "|                 4| 17088|\n",
      "|                12|     5|\n",
      "|                13|     3|\n",
      "|                 2|632234|\n",
      "|                15|     1|\n",
      "|                14|     2|\n",
      "|                34|     1|\n",
      "|                18|     2|\n",
      "|                19|     1|\n",
      "+------------------+------+\n",
      "only showing top 20 rows\n",
      "\n"
     ]
    },
    {
     "name": "stderr",
     "output_type": "stream",
     "text": [
      "                                                                                \r"
     ]
    }
   ],
   "source": [
    "df.select('Number_of_Vehicles').where(df.Road_Surface_Conditions == 'Dry').groupby('Number_of_Vehicles').count().show()"
   ]
  },
  {
   "cell_type": "code",
   "execution_count": 19,
   "id": "9810b2a1",
   "metadata": {
    "execution": {
     "iopub.execute_input": "2023-11-27T04:39:30.656787Z",
     "iopub.status.busy": "2023-11-27T04:39:30.656382Z",
     "iopub.status.idle": "2023-11-27T04:39:32.280375Z",
     "shell.execute_reply": "2023-11-27T04:39:32.279579Z"
    },
    "papermill": {
     "duration": 1.645327,
     "end_time": "2023-11-27T04:39:32.282695",
     "exception": false,
     "start_time": "2023-11-27T04:39:30.637368",
     "status": "completed"
    },
    "tags": []
   },
   "outputs": [
    {
     "name": "stderr",
     "output_type": "stream",
     "text": [
      "[Stage 18:>                                                         (0 + 4) / 4]\r"
     ]
    },
    {
     "name": "stdout",
     "output_type": "stream",
     "text": [
      "+-----------------+------+\n",
      "|Accident_Severity| count|\n",
      "+-----------------+------+\n",
      "|                3|877938|\n",
      "|                1| 13032|\n",
      "|                2|143700|\n",
      "+-----------------+------+\n",
      "\n"
     ]
    },
    {
     "name": "stderr",
     "output_type": "stream",
     "text": [
      "                                                                                \r"
     ]
    }
   ],
   "source": [
    "df.select('Accident_Severity').filter(df.Road_Surface_Conditions == 'Dry').groupby('Accident_Severity').count().show()"
   ]
  },
  {
   "cell_type": "code",
   "execution_count": null,
   "id": "ac40c1e7",
   "metadata": {
    "execution": {
     "iopub.execute_input": "2023-11-27T04:05:18.638352Z",
     "iopub.status.busy": "2023-11-27T04:05:18.637586Z",
     "iopub.status.idle": "2023-11-27T04:05:18.645367Z",
     "shell.execute_reply": "2023-11-27T04:05:18.643901Z",
     "shell.execute_reply.started": "2023-11-27T04:05:18.638233Z"
    },
    "papermill": {
     "duration": 0.017995,
     "end_time": "2023-11-27T04:39:32.322728",
     "exception": false,
     "start_time": "2023-11-27T04:39:32.304733",
     "status": "completed"
    },
    "tags": []
   },
   "outputs": [],
   "source": []
  },
  {
   "cell_type": "code",
   "execution_count": null,
   "id": "92d39334",
   "metadata": {
    "execution": {
     "iopub.execute_input": "2023-11-27T04:07:11.973443Z",
     "iopub.status.busy": "2023-11-27T04:07:11.971980Z",
     "iopub.status.idle": "2023-11-27T04:07:11.979752Z",
     "shell.execute_reply": "2023-11-27T04:07:11.978063Z",
     "shell.execute_reply.started": "2023-11-27T04:07:11.973386Z"
    },
    "papermill": {
     "duration": 0.016451,
     "end_time": "2023-11-27T04:39:32.357019",
     "exception": false,
     "start_time": "2023-11-27T04:39:32.340568",
     "status": "completed"
    },
    "tags": []
   },
   "outputs": [],
   "source": []
  },
  {
   "cell_type": "code",
   "execution_count": null,
   "id": "0529fed3",
   "metadata": {
    "execution": {
     "iopub.execute_input": "2023-11-27T04:33:33.024611Z",
     "iopub.status.busy": "2023-11-27T04:33:33.022915Z",
     "iopub.status.idle": "2023-11-27T04:33:33.034646Z",
     "shell.execute_reply": "2023-11-27T04:33:33.033224Z",
     "shell.execute_reply.started": "2023-11-27T04:33:33.024536Z"
    },
    "papermill": {
     "duration": 0.012461,
     "end_time": "2023-11-27T04:39:32.386552",
     "exception": false,
     "start_time": "2023-11-27T04:39:32.374091",
     "status": "completed"
    },
    "tags": []
   },
   "outputs": [],
   "source": []
  },
  {
   "cell_type": "code",
   "execution_count": 20,
   "id": "c68fac7b",
   "metadata": {
    "execution": {
     "iopub.execute_input": "2023-11-27T04:39:32.411950Z",
     "iopub.status.busy": "2023-11-27T04:39:32.411633Z",
     "iopub.status.idle": "2023-11-27T04:39:32.416982Z",
     "shell.execute_reply": "2023-11-27T04:39:32.415871Z"
    },
    "papermill": {
     "duration": 0.019883,
     "end_time": "2023-11-27T04:39:32.418509",
     "exception": false,
     "start_time": "2023-11-27T04:39:32.398626",
     "status": "completed"
    },
    "tags": []
   },
   "outputs": [
    {
     "data": {
      "text/plain": [
       "()"
      ]
     },
     "execution_count": 20,
     "metadata": {},
     "output_type": "execute_result"
    }
   ],
   "source": [
    "()"
   ]
  }
 ],
 "metadata": {
  "kaggle": {
   "accelerator": "none",
   "dataSources": [
    {
     "datasetId": 2219444,
     "sourceId": 3710599,
     "sourceType": "datasetVersion"
    }
   ],
   "dockerImageVersionId": 30587,
   "isGpuEnabled": false,
   "isInternetEnabled": true,
   "language": "python",
   "sourceType": "notebook"
  },
  "kernelspec": {
   "display_name": "Python 3",
   "language": "python",
   "name": "python3"
  },
  "language_info": {
   "codemirror_mode": {
    "name": "ipython",
    "version": 3
   },
   "file_extension": ".py",
   "mimetype": "text/x-python",
   "name": "python",
   "nbconvert_exporter": "python",
   "pygments_lexer": "ipython3",
   "version": "3.10.12"
  },
  "papermill": {
   "default_parameters": {},
   "duration": 108.44957,
   "end_time": "2023-11-27T04:39:35.050081",
   "environment_variables": {},
   "exception": null,
   "input_path": "__notebook__.ipynb",
   "output_path": "__notebook__.ipynb",
   "parameters": {},
   "start_time": "2023-11-27T04:37:46.600511",
   "version": "2.4.0"
  }
 },
 "nbformat": 4,
 "nbformat_minor": 5
}

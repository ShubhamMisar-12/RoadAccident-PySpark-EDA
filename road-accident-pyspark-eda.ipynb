{
 "cells": [
  {
   "cell_type": "code",
   "execution_count": 1,
   "id": "5e8025a0",
   "metadata": {
    "_cell_guid": "b1076dfc-b9ad-4769-8c92-a6c4dae69d19",
    "_uuid": "8f2839f25d086af736a60e9eeb907d3b93b6e0e5",
    "execution": {
     "iopub.execute_input": "2023-11-23T03:57:00.768616Z",
     "iopub.status.busy": "2023-11-23T03:57:00.768225Z",
     "iopub.status.idle": "2023-11-23T03:57:01.196379Z",
     "shell.execute_reply": "2023-11-23T03:57:01.195416Z"
    },
    "papermill": {
     "duration": 0.437836,
     "end_time": "2023-11-23T03:57:01.198725",
     "exception": false,
     "start_time": "2023-11-23T03:57:00.760889",
     "status": "completed"
    },
    "tags": []
   },
   "outputs": [
    {
     "name": "stdout",
     "output_type": "stream",
     "text": [
      "/kaggle/input/road-accident-united-kingdom-uk-dataset/UK_Accident.csv\n"
     ]
    }
   ],
   "source": [
    "# This Python 3 environment comes with many helpful analytics libraries installed\n",
    "# It is defined by the kaggle/python Docker image: https://github.com/kaggle/docker-python\n",
    "# For example, here's several helpful packages to load\n",
    "\n",
    "import numpy as np # linear algebra\n",
    "import pandas as pd # data processing, CSV file I/O (e.g. pd.read_csv)\n",
    "\n",
    "# Input data files are available in the read-only \"../input/\" directory\n",
    "# For example, running this (by clicking run or pressing Shift+Enter) will list all files under the input directory\n",
    "\n",
    "import os\n",
    "for dirname, _, filenames in os.walk('/kaggle/input'):\n",
    "    for filename in filenames:\n",
    "        print(os.path.join(dirname, filename))\n",
    "\n",
    "# You can write up to 20GB to the current directory (/kaggle/working/) that gets preserved as output when you create a version using \"Save & Run All\" \n",
    "# You can also write temporary files to /kaggle/temp/, but they won't be saved outside of the current session"
   ]
  },
  {
   "cell_type": "code",
   "execution_count": 2,
   "id": "f380558c",
   "metadata": {
    "execution": {
     "iopub.execute_input": "2023-11-23T03:57:01.213894Z",
     "iopub.status.busy": "2023-11-23T03:57:01.212760Z",
     "iopub.status.idle": "2023-11-23T03:57:54.742966Z",
     "shell.execute_reply": "2023-11-23T03:57:54.741608Z"
    },
    "papermill": {
     "duration": 53.53977,
     "end_time": "2023-11-23T03:57:54.745803",
     "exception": false,
     "start_time": "2023-11-23T03:57:01.206033",
     "status": "completed"
    },
    "tags": []
   },
   "outputs": [
    {
     "name": "stdout",
     "output_type": "stream",
     "text": [
      "Collecting pyspark\r\n",
      "  Downloading pyspark-3.5.0.tar.gz (316.9 MB)\r\n",
      "\u001b[2K     \u001b[90m━━━━━━━━━━━━━━━━━━━━━━━━━━━━━━━━━━━━━━━\u001b[0m \u001b[32m316.9/316.9 MB\u001b[0m \u001b[31m3.3 MB/s\u001b[0m eta \u001b[36m0:00:00\u001b[0m\r\n",
      "\u001b[?25h  Preparing metadata (setup.py) ... \u001b[?25l-\b \b\\\b \bdone\r\n",
      "\u001b[?25hRequirement already satisfied: py4j==0.10.9.7 in /opt/conda/lib/python3.10/site-packages (from pyspark) (0.10.9.7)\r\n",
      "Building wheels for collected packages: pyspark\r\n",
      "  Building wheel for pyspark (setup.py) ... \u001b[?25l-\b \b\\\b \b|\b \bdone\r\n",
      "\u001b[?25h  Created wheel for pyspark: filename=pyspark-3.5.0-py2.py3-none-any.whl size=317425344 sha256=61f5872f9e40b204b4348e349b634dbb1a68a0e5f8f2a946ca554eedb48f35bc\r\n",
      "  Stored in directory: /root/.cache/pip/wheels/41/4e/10/c2cf2467f71c678cfc8a6b9ac9241e5e44a01940da8fbb17fc\r\n",
      "Successfully built pyspark\r\n",
      "Installing collected packages: pyspark\r\n",
      "Successfully installed pyspark-3.5.0\r\n"
     ]
    }
   ],
   "source": [
    "!pip install pyspark"
   ]
  },
  {
   "cell_type": "code",
   "execution_count": 3,
   "id": "90dd9e01",
   "metadata": {
    "execution": {
     "iopub.execute_input": "2023-11-23T03:57:54.781169Z",
     "iopub.status.busy": "2023-11-23T03:57:54.780743Z",
     "iopub.status.idle": "2023-11-23T03:57:54.873628Z",
     "shell.execute_reply": "2023-11-23T03:57:54.872617Z"
    },
    "papermill": {
     "duration": 0.113489,
     "end_time": "2023-11-23T03:57:54.876322",
     "exception": false,
     "start_time": "2023-11-23T03:57:54.762833",
     "status": "completed"
    },
    "tags": []
   },
   "outputs": [],
   "source": [
    "import pyspark"
   ]
  },
  {
   "cell_type": "code",
   "execution_count": 4,
   "id": "0b084bfc",
   "metadata": {
    "execution": {
     "iopub.execute_input": "2023-11-23T03:57:54.911518Z",
     "iopub.status.busy": "2023-11-23T03:57:54.910886Z",
     "iopub.status.idle": "2023-11-23T03:57:54.917902Z",
     "shell.execute_reply": "2023-11-23T03:57:54.916841Z"
    },
    "papermill": {
     "duration": 0.02723,
     "end_time": "2023-11-23T03:57:54.920417",
     "exception": false,
     "start_time": "2023-11-23T03:57:54.893187",
     "status": "completed"
    },
    "tags": []
   },
   "outputs": [],
   "source": [
    "custom_column_names = ['Accident_Index', 'Location_Easting_OSGR', 'Location_Northing_OSGR', 'Longitude', 'Latitude', 'Police_Force', 'Accident_Severity', 'Number_of_Vehicles', 'Number_of_Casualties', 'Date', 'Day_of_Week', 'Time', 'Local_Authority_(District)', 'Local_Authority_(Highway)', '1st_Road_Class', '1st_Road_Number', 'Road_Type', 'Speed_limit', 'Junction_Control', '2nd_Road_Class', '2nd_Road_Number', 'Pedestrian_Crossing-Human_Control', 'Pedestrian_Crossing-Physical_Facilities', 'Light_Conditions', 'Weather_Conditions', 'Road_Surface_Conditions', 'Special_Conditions_at_Site', 'Carriageway_Hazards', 'Urban_or_Rural_Area', 'Did_Police_Officer_Attend_Scene_of_Accident', 'LSOA_of_Accident_Location', 'Year']"
   ]
  },
  {
   "cell_type": "code",
   "execution_count": 5,
   "id": "7540e4c7",
   "metadata": {
    "execution": {
     "iopub.execute_input": "2023-11-23T03:57:54.955655Z",
     "iopub.status.busy": "2023-11-23T03:57:54.955238Z",
     "iopub.status.idle": "2023-11-23T03:57:54.960158Z",
     "shell.execute_reply": "2023-11-23T03:57:54.959054Z"
    },
    "papermill": {
     "duration": 0.025698,
     "end_time": "2023-11-23T03:57:54.962893",
     "exception": false,
     "start_time": "2023-11-23T03:57:54.937195",
     "status": "completed"
    },
    "tags": []
   },
   "outputs": [],
   "source": [
    "from pyspark.sql import SparkSession"
   ]
  },
  {
   "cell_type": "code",
   "execution_count": 6,
   "id": "11e298a2",
   "metadata": {
    "execution": {
     "iopub.execute_input": "2023-11-23T03:57:54.998609Z",
     "iopub.status.busy": "2023-11-23T03:57:54.998201Z",
     "iopub.status.idle": "2023-11-23T03:58:00.889935Z",
     "shell.execute_reply": "2023-11-23T03:58:00.888898Z"
    },
    "papermill": {
     "duration": 5.912785,
     "end_time": "2023-11-23T03:58:00.892611",
     "exception": false,
     "start_time": "2023-11-23T03:57:54.979826",
     "status": "completed"
    },
    "tags": []
   },
   "outputs": [
    {
     "name": "stderr",
     "output_type": "stream",
     "text": [
      "Setting default log level to \"WARN\".\n",
      "To adjust logging level use sc.setLogLevel(newLevel). For SparkR, use setLogLevel(newLevel).\n",
      "23/11/23 03:57:58 WARN NativeCodeLoader: Unable to load native-hadoop library for your platform... using builtin-java classes where applicable\n"
     ]
    }
   ],
   "source": [
    "spark = SparkSession.builder.appName('EDA').getOrCreate()"
   ]
  },
  {
   "cell_type": "code",
   "execution_count": 7,
   "id": "df77074c",
   "metadata": {
    "execution": {
     "iopub.execute_input": "2023-11-23T03:58:00.929521Z",
     "iopub.status.busy": "2023-11-23T03:58:00.928774Z",
     "iopub.status.idle": "2023-11-23T03:58:08.098168Z",
     "shell.execute_reply": "2023-11-23T03:58:08.096863Z"
    },
    "papermill": {
     "duration": 7.190683,
     "end_time": "2023-11-23T03:58:08.101303",
     "exception": false,
     "start_time": "2023-11-23T03:58:00.910620",
     "status": "completed"
    },
    "tags": []
   },
   "outputs": [],
   "source": [
    "df = spark.read.csv('/kaggle/input/road-accident-united-kingdom-uk-dataset/UK_Accident.csv', header = True)"
   ]
  },
  {
   "cell_type": "code",
   "execution_count": 8,
   "id": "2922935e",
   "metadata": {
    "execution": {
     "iopub.execute_input": "2023-11-23T03:58:08.136535Z",
     "iopub.status.busy": "2023-11-23T03:58:08.136155Z",
     "iopub.status.idle": "2023-11-23T03:58:08.184229Z",
     "shell.execute_reply": "2023-11-23T03:58:08.183029Z"
    },
    "papermill": {
     "duration": 0.069701,
     "end_time": "2023-11-23T03:58:08.188156",
     "exception": false,
     "start_time": "2023-11-23T03:58:08.118455",
     "status": "completed"
    },
    "tags": []
   },
   "outputs": [],
   "source": [
    "df = df.withColumnRenamed('_c0', 'RowIndex')"
   ]
  },
  {
   "cell_type": "code",
   "execution_count": 9,
   "id": "116dd9aa",
   "metadata": {
    "execution": {
     "iopub.execute_input": "2023-11-23T03:58:08.237605Z",
     "iopub.status.busy": "2023-11-23T03:58:08.237083Z",
     "iopub.status.idle": "2023-11-23T03:58:08.248440Z",
     "shell.execute_reply": "2023-11-23T03:58:08.247265Z"
    },
    "papermill": {
     "duration": 0.03991,
     "end_time": "2023-11-23T03:58:08.251919",
     "exception": false,
     "start_time": "2023-11-23T03:58:08.212009",
     "status": "completed"
    },
    "tags": []
   },
   "outputs": [
    {
     "name": "stdout",
     "output_type": "stream",
     "text": [
      "root\n",
      " |-- RowIndex: string (nullable = true)\n",
      " |-- Accident_Index: string (nullable = true)\n",
      " |-- Location_Easting_OSGR: string (nullable = true)\n",
      " |-- Location_Northing_OSGR: string (nullable = true)\n",
      " |-- Longitude: string (nullable = true)\n",
      " |-- Latitude: string (nullable = true)\n",
      " |-- Police_Force: string (nullable = true)\n",
      " |-- Accident_Severity: string (nullable = true)\n",
      " |-- Number_of_Vehicles: string (nullable = true)\n",
      " |-- Number_of_Casualties: string (nullable = true)\n",
      " |-- Date: string (nullable = true)\n",
      " |-- Day_of_Week: string (nullable = true)\n",
      " |-- Time: string (nullable = true)\n",
      " |-- Local_Authority_(District): string (nullable = true)\n",
      " |-- Local_Authority_(Highway): string (nullable = true)\n",
      " |-- 1st_Road_Class: string (nullable = true)\n",
      " |-- 1st_Road_Number: string (nullable = true)\n",
      " |-- Road_Type: string (nullable = true)\n",
      " |-- Speed_limit: string (nullable = true)\n",
      " |-- Junction_Control: string (nullable = true)\n",
      " |-- 2nd_Road_Class: string (nullable = true)\n",
      " |-- 2nd_Road_Number: string (nullable = true)\n",
      " |-- Pedestrian_Crossing-Human_Control: string (nullable = true)\n",
      " |-- Pedestrian_Crossing-Physical_Facilities: string (nullable = true)\n",
      " |-- Light_Conditions: string (nullable = true)\n",
      " |-- Weather_Conditions: string (nullable = true)\n",
      " |-- Road_Surface_Conditions: string (nullable = true)\n",
      " |-- Special_Conditions_at_Site: string (nullable = true)\n",
      " |-- Carriageway_Hazards: string (nullable = true)\n",
      " |-- Urban_or_Rural_Area: string (nullable = true)\n",
      " |-- Did_Police_Officer_Attend_Scene_of_Accident: string (nullable = true)\n",
      " |-- LSOA_of_Accident_Location: string (nullable = true)\n",
      " |-- Year: string (nullable = true)\n",
      "\n"
     ]
    }
   ],
   "source": [
    "df.printSchema()"
   ]
  },
  {
   "cell_type": "code",
   "execution_count": 10,
   "id": "bee11c61",
   "metadata": {
    "execution": {
     "iopub.execute_input": "2023-11-23T03:58:08.292657Z",
     "iopub.status.busy": "2023-11-23T03:58:08.292031Z",
     "iopub.status.idle": "2023-11-23T03:58:08.948212Z",
     "shell.execute_reply": "2023-11-23T03:58:08.945761Z"
    },
    "papermill": {
     "duration": 0.678087,
     "end_time": "2023-11-23T03:58:08.951318",
     "exception": false,
     "start_time": "2023-11-23T03:58:08.273231",
     "status": "completed"
    },
    "tags": []
   },
   "outputs": [
    {
     "name": "stderr",
     "output_type": "stream",
     "text": [
      "23/11/23 03:58:08 WARN SparkStringUtils: Truncated the string representation of a plan since it was too large. This behavior can be adjusted by setting 'spark.sql.debug.maxToStringFields'.\n",
      "23/11/23 03:58:08 WARN CSVHeaderChecker: CSV header does not conform to the schema.\n",
      " Header: , Accident_Index, Location_Easting_OSGR, Location_Northing_OSGR, Longitude, Latitude, Police_Force, Accident_Severity, Number_of_Vehicles, Number_of_Casualties, Date, Day_of_Week, Time, Local_Authority_(District), Local_Authority_(Highway), 1st_Road_Class, 1st_Road_Number, Road_Type, Speed_limit, Junction_Control, 2nd_Road_Class, 2nd_Road_Number, Pedestrian_Crossing-Human_Control, Pedestrian_Crossing-Physical_Facilities, Light_Conditions, Weather_Conditions, Road_Surface_Conditions, Special_Conditions_at_Site, Carriageway_Hazards, Urban_or_Rural_Area, Did_Police_Officer_Attend_Scene_of_Accident, LSOA_of_Accident_Location, Year\n",
      " Schema: _c0, Accident_Index, Location_Easting_OSGR, Location_Northing_OSGR, Longitude, Latitude, Police_Force, Accident_Severity, Number_of_Vehicles, Number_of_Casualties, Date, Day_of_Week, Time, Local_Authority_(District), Local_Authority_(Highway), 1st_Road_Class, 1st_Road_Number, Road_Type, Speed_limit, Junction_Control, 2nd_Road_Class, 2nd_Road_Number, Pedestrian_Crossing-Human_Control, Pedestrian_Crossing-Physical_Facilities, Light_Conditions, Weather_Conditions, Road_Surface_Conditions, Special_Conditions_at_Site, Carriageway_Hazards, Urban_or_Rural_Area, Did_Police_Officer_Attend_Scene_of_Accident, LSOA_of_Accident_Location, Year\n",
      "Expected: _c0 but found: \n",
      "CSV file: file:///kaggle/input/road-accident-united-kingdom-uk-dataset/UK_Accident.csv\n"
     ]
    },
    {
     "data": {
      "text/plain": [
       "[Row(RowIndex='0', Accident_Index='200501BS00001', Location_Easting_OSGR='525680.0', Location_Northing_OSGR='178240.0', Longitude='-0.19117', Latitude='51.489096', Police_Force='1', Accident_Severity='2', Number_of_Vehicles='1', Number_of_Casualties='1', Date='04/01/2005', Day_of_Week='3', Time='17:42', Local_Authority_(District)='12', Local_Authority_(Highway)='E09000020', 1st_Road_Class='3', 1st_Road_Number='3218', Road_Type='Single carriageway', Speed_limit='30', Junction_Control='None', 2nd_Road_Class='-1', 2nd_Road_Number='0', Pedestrian_Crossing-Human_Control='None within 50 metres', Pedestrian_Crossing-Physical_Facilities='Zebra crossing', Light_Conditions='Daylight: Street light present', Weather_Conditions='Raining without high winds', Road_Surface_Conditions='Wet/Damp', Special_Conditions_at_Site='None', Carriageway_Hazards='None', Urban_or_Rural_Area='1', Did_Police_Officer_Attend_Scene_of_Accident='Yes', LSOA_of_Accident_Location='E01002849', Year='2005'),\n",
       " Row(RowIndex='1', Accident_Index='200501BS00002', Location_Easting_OSGR='524170.0', Location_Northing_OSGR='181650.0', Longitude='-0.211708', Latitude='51.520075', Police_Force='1', Accident_Severity='3', Number_of_Vehicles='1', Number_of_Casualties='1', Date='05/01/2005', Day_of_Week='4', Time='17:36', Local_Authority_(District)='12', Local_Authority_(Highway)='E09000020', 1st_Road_Class='4', 1st_Road_Number='450', Road_Type='Dual carriageway', Speed_limit='30', Junction_Control='Automatic traffic signal', 2nd_Road_Class='5', 2nd_Road_Number='0', Pedestrian_Crossing-Human_Control='None within 50 metres', Pedestrian_Crossing-Physical_Facilities='Pedestrian phase at traffic signal junction', Light_Conditions='Darkness: Street lights present and lit', Weather_Conditions='Fine without high winds', Road_Surface_Conditions='Dry', Special_Conditions_at_Site='None', Carriageway_Hazards='None', Urban_or_Rural_Area='1', Did_Police_Officer_Attend_Scene_of_Accident='Yes', LSOA_of_Accident_Location='E01002909', Year='2005'),\n",
       " Row(RowIndex='2', Accident_Index='200501BS00003', Location_Easting_OSGR='524520.0', Location_Northing_OSGR='182240.0', Longitude='-0.206458', Latitude='51.525301', Police_Force='1', Accident_Severity='3', Number_of_Vehicles='2', Number_of_Casualties='1', Date='06/01/2005', Day_of_Week='5', Time='00:15', Local_Authority_(District)='12', Local_Authority_(Highway)='E09000020', 1st_Road_Class='5', 1st_Road_Number='0', Road_Type='Single carriageway', Speed_limit='30', Junction_Control='None', 2nd_Road_Class='-1', 2nd_Road_Number='0', Pedestrian_Crossing-Human_Control='None within 50 metres', Pedestrian_Crossing-Physical_Facilities='No physical crossing within 50 meters', Light_Conditions='Darkness: Street lights present and lit', Weather_Conditions='Fine without high winds', Road_Surface_Conditions='Dry', Special_Conditions_at_Site='None', Carriageway_Hazards='None', Urban_or_Rural_Area='1', Did_Police_Officer_Attend_Scene_of_Accident='Yes', LSOA_of_Accident_Location='E01002857', Year='2005'),\n",
       " Row(RowIndex='3', Accident_Index='200501BS00004', Location_Easting_OSGR='526900.0', Location_Northing_OSGR='177530.0', Longitude='-0.173862', Latitude='51.482442', Police_Force='1', Accident_Severity='3', Number_of_Vehicles='1', Number_of_Casualties='1', Date='07/01/2005', Day_of_Week='6', Time='10:35', Local_Authority_(District)='12', Local_Authority_(Highway)='E09000020', 1st_Road_Class='3', 1st_Road_Number='3220', Road_Type='Single carriageway', Speed_limit='30', Junction_Control='None', 2nd_Road_Class='-1', 2nd_Road_Number='0', Pedestrian_Crossing-Human_Control='None within 50 metres', Pedestrian_Crossing-Physical_Facilities='No physical crossing within 50 meters', Light_Conditions='Daylight: Street light present', Weather_Conditions='Fine without high winds', Road_Surface_Conditions='Dry', Special_Conditions_at_Site='None', Carriageway_Hazards='None', Urban_or_Rural_Area='1', Did_Police_Officer_Attend_Scene_of_Accident='Yes', LSOA_of_Accident_Location='E01002840', Year='2005')]"
      ]
     },
     "execution_count": 10,
     "metadata": {},
     "output_type": "execute_result"
    }
   ],
   "source": [
    "df.take(4)"
   ]
  },
  {
   "cell_type": "code",
   "execution_count": 11,
   "id": "87daa279",
   "metadata": {
    "execution": {
     "iopub.execute_input": "2023-11-23T03:58:09.002989Z",
     "iopub.status.busy": "2023-11-23T03:58:09.001582Z",
     "iopub.status.idle": "2023-11-23T03:58:09.328914Z",
     "shell.execute_reply": "2023-11-23T03:58:09.327750Z"
    },
    "papermill": {
     "duration": 0.35671,
     "end_time": "2023-11-23T03:58:09.332334",
     "exception": false,
     "start_time": "2023-11-23T03:58:08.975624",
     "status": "completed"
    },
    "tags": []
   },
   "outputs": [
    {
     "name": "stdout",
     "output_type": "stream",
     "text": [
      "+-----------+\n",
      "|Day_of_Week|\n",
      "+-----------+\n",
      "|          3|\n",
      "|          4|\n",
      "|          5|\n",
      "|          6|\n",
      "|          2|\n",
      "|          3|\n",
      "|          5|\n",
      "|          6|\n",
      "|          7|\n",
      "|          7|\n",
      "|          1|\n",
      "|          3|\n",
      "|          3|\n",
      "|          3|\n",
      "|          3|\n",
      "|          3|\n",
      "|          5|\n",
      "|          6|\n",
      "|          6|\n",
      "|          7|\n",
      "+-----------+\n",
      "only showing top 20 rows\n",
      "\n"
     ]
    }
   ],
   "source": [
    "df.select('Day_of_Week').show()"
   ]
  },
  {
   "cell_type": "code",
   "execution_count": 12,
   "id": "e7eddfd6",
   "metadata": {
    "execution": {
     "iopub.execute_input": "2023-11-23T03:58:09.383041Z",
     "iopub.status.busy": "2023-11-23T03:58:09.382506Z",
     "iopub.status.idle": "2023-11-23T03:58:14.612723Z",
     "shell.execute_reply": "2023-11-23T03:58:14.611508Z"
    },
    "papermill": {
     "duration": 5.259527,
     "end_time": "2023-11-23T03:58:14.616302",
     "exception": false,
     "start_time": "2023-11-23T03:58:09.356775",
     "status": "completed"
    },
    "tags": []
   },
   "outputs": [
    {
     "name": "stderr",
     "output_type": "stream",
     "text": [
      "                                                                                \r"
     ]
    },
    {
     "data": {
      "text/plain": [
       "[Row(Weather_Conditions='Raining without high winds'),\n",
       " Row(Weather_Conditions='Snowing with high winds'),\n",
       " Row(Weather_Conditions='Snowing without high winds'),\n",
       " Row(Weather_Conditions='Unknown'),\n",
       " Row(Weather_Conditions='Other'),\n",
       " Row(Weather_Conditions='Fine with high winds'),\n",
       " Row(Weather_Conditions='Fine without high winds'),\n",
       " Row(Weather_Conditions='Raining with high winds'),\n",
       " Row(Weather_Conditions='Fog or mist')]"
      ]
     },
     "execution_count": 12,
     "metadata": {},
     "output_type": "execute_result"
    }
   ],
   "source": [
    "df.select('Weather_Conditions').distinct().collect()"
   ]
  },
  {
   "cell_type": "code",
   "execution_count": null,
   "id": "7bbda06e",
   "metadata": {
    "papermill": {
     "duration": 0.024654,
     "end_time": "2023-11-23T03:58:14.666146",
     "exception": false,
     "start_time": "2023-11-23T03:58:14.641492",
     "status": "completed"
    },
    "tags": []
   },
   "outputs": [],
   "source": []
  },
  {
   "cell_type": "code",
   "execution_count": null,
   "id": "45a81267",
   "metadata": {
    "papermill": {
     "duration": 0.025322,
     "end_time": "2023-11-23T03:58:14.717274",
     "exception": false,
     "start_time": "2023-11-23T03:58:14.691952",
     "status": "completed"
    },
    "tags": []
   },
   "outputs": [],
   "source": []
  }
 ],
 "metadata": {
  "kaggle": {
   "accelerator": "none",
   "dataSources": [
    {
     "datasetId": 2219444,
     "sourceId": 3710599,
     "sourceType": "datasetVersion"
    }
   ],
   "dockerImageVersionId": 30587,
   "isGpuEnabled": false,
   "isInternetEnabled": true,
   "language": "python",
   "sourceType": "notebook"
  },
  "kernelspec": {
   "display_name": "Python 3",
   "language": "python",
   "name": "python3"
  },
  "language_info": {
   "codemirror_mode": {
    "name": "ipython",
    "version": 3
   },
   "file_extension": ".py",
   "mimetype": "text/x-python",
   "name": "python",
   "nbconvert_exporter": "python",
   "pygments_lexer": "ipython3",
   "version": "3.10.12"
  },
  "papermill": {
   "default_parameters": {},
   "duration": 80.02521,
   "end_time": "2023-11-23T03:58:17.365255",
   "environment_variables": {},
   "exception": null,
   "input_path": "__notebook__.ipynb",
   "output_path": "__notebook__.ipynb",
   "parameters": {},
   "start_time": "2023-11-23T03:56:57.340045",
   "version": "2.4.0"
  }
 },
 "nbformat": 4,
 "nbformat_minor": 5
}
